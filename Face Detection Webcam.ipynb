{
 "cells": [
  {
   "cell_type": "markdown",
   "metadata": {},
   "source": [
    "# Face Detection Webcam"
   ]
  },
  {
   "cell_type": "markdown",
   "metadata": {},
   "source": [
    "## Importing the libraries"
   ]
  },
  {
   "cell_type": "code",
   "execution_count": 1,
   "metadata": {},
   "outputs": [],
   "source": [
    "import cv2"
   ]
  },
  {
   "cell_type": "markdown",
   "metadata": {},
   "source": [
    "## Loading the pre-trained Dataset"
   ]
  },
  {
   "cell_type": "code",
   "execution_count": 2,
   "metadata": {},
   "outputs": [],
   "source": [
    "# Load some pre-trained data on face frontals from opencv ( haar cascade algorithm )\n",
    "trained_face_data = cv2.CascadeClassifier('haarcascade_frontalface_default.xml');"
   ]
  },
  {
   "cell_type": "markdown",
   "metadata": {},
   "source": [
    "## Video Capture"
   ]
  },
  {
   "cell_type": "code",
   "execution_count": 3,
   "metadata": {},
   "outputs": [
    {
     "name": "stdout",
     "output_type": "stream",
     "text": [
      "Exit Successfull\n"
     ]
    }
   ],
   "source": [
    "webcam = cv2.VideoCapture(0)\n",
    "\n",
    "try:\n",
    "    # Infinite Loop\n",
    "    while True:\n",
    "\n",
    "        # Reading frames of webcam\n",
    "        success,frame = webcam.read()\n",
    "\n",
    "        # Must convert to grayscale\n",
    "        grayScaleFrame = cv2.cvtColor(frame, cv2.COLOR_BGR2GRAY)\n",
    "\n",
    "        # Detect Faces\n",
    "        face_coordinates = trained_face_data.detectMultiScale(grayScaleFrame)\n",
    "\n",
    "        # Draw rectangles around the faces\n",
    "        for (x ,y ,w ,h) in face_coordinates:\n",
    "            cv2.rectangle(frame,(x,y),(x+w , y+h),(0,255,0),3)\n",
    "\n",
    "        # Display the faces with detection\n",
    "        cv2.imshow(\"Automatic Face Detector\",frame)\n",
    "        key = cv2.waitKey(1)\n",
    "\n",
    "        if(key==81 or key==113):\n",
    "            webcam.release()\n",
    "            exit(0)\n",
    "\n",
    "except:\n",
    "    print(\"Exit Successfull\")\n"
   ]
  }
 ],
 "metadata": {
  "kernelspec": {
   "display_name": "Python 3",
   "language": "python",
   "name": "python3"
  },
  "language_info": {
   "codemirror_mode": {
    "name": "ipython",
    "version": 3
   },
   "file_extension": ".py",
   "mimetype": "text/x-python",
   "name": "python",
   "nbconvert_exporter": "python",
   "pygments_lexer": "ipython3",
   "version": "3.7.6"
  }
 },
 "nbformat": 4,
 "nbformat_minor": 4
}
